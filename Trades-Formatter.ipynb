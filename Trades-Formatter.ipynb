{
 "cells": [
  {
   "cell_type": "code",
   "execution_count": 1,
   "metadata": {
    "collapsed": true
   },
   "outputs": [],
   "source": [
    "% matplotlib inline\n",
    "import matplotlib.pyplot as plt\n",
    "import datetime\n",
    "import pandas as pd\n",
    "import pandas.tseries\n",
    "import numpy as np\n",
    "from datetime import datetime, time\n",
    "from pandas import Timestamp\n",
    "from pandas import DatetimeIndex\n",
    "#pd.set_option('display.height', 1000)\n",
    "#pd.set_option('display.max_rows',1000)\n",
    "from datetime import timedelta\n",
    "from pandas.tseries.offsets import *"
   ]
  },
  {
   "cell_type": "code",
   "execution_count": 2,
   "metadata": {
    "collapsed": false
   },
   "outputs": [
    {
     "name": "stdout",
     "output_type": "stream",
     "text": [
      "/Users/RAFA/logs\n"
     ]
    }
   ],
   "source": [
    "cd /Users/RAFA/logs/"
   ]
  },
  {
   "cell_type": "code",
   "execution_count": 9,
   "metadata": {
    "collapsed": false
   },
   "outputs": [],
   "source": [
    "columns=['TIME','PERM_ID','ORDER_ID','LMT_PRICE','ACTION','SHARES','EXCH','COMM','PL'];\n",
    "trades=pd.read_csv('Trades_Duplicates_Removed.log',sep=',',parse_dates=True,dayfirst=True,names=['DATE','TIME','PERM_ID','ORDER_ID','LMT_PRICE','ACTION','SHARES','EXCH','COMM','PL'],usecols=columns)\n",
    "#dff=df.loc[df['STATUS'].isin(['Submitted', 'Filled','Cancelled'])]\n",
    "#trades['PLC'] = trades.PL.replace({'N/A': '0'})\n",
    "trades=trades.fillna(0)\n",
    "trades_sorted=trades.sort_values(['PERM_ID','ORDER_ID'], ascending=[True, True])\n",
    "trades_sorted=trades_sorted.round({'COMM': 3, 'P/L': 3})\n",
    "trades_sorted=trades_sorted.drop_duplicates()\n",
    "trades_sorted.to_csv('/Users/RAFA/logs/AAPL_Trades_Sorted', sep='\\t',index=False)\n",
    "trades_sorted.to_html('/Users/RAFA/logs/AAPL_Trades_Sorted_html',index=False)\n"
   ]
  },
  {
   "cell_type": "code",
   "execution_count": null,
   "metadata": {
    "collapsed": true
   },
   "outputs": [],
   "source": []
  }
 ],
 "metadata": {
  "kernelspec": {
   "display_name": "Python [Root]",
   "language": "python",
   "name": "Python [Root]"
  },
  "language_info": {
   "codemirror_mode": {
    "name": "ipython",
    "version": 3
   },
   "file_extension": ".py",
   "mimetype": "text/x-python",
   "name": "python",
   "nbconvert_exporter": "python",
   "pygments_lexer": "ipython3",
   "version": "3.5.2"
  }
 },
 "nbformat": 4,
 "nbformat_minor": 0
}
